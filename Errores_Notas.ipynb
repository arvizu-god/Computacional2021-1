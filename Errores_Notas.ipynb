{
 "cells": [
  {
   "cell_type": "markdown",
   "metadata": {},
   "source": [
    "# Errores numéricos: Notas y códigos.\n",
    "\n",
    "Las computadoras tienen límites, estas no pueden guardar números con una cantidad infinita de dígitos, por lo que existe un límite para el número mas grande y el más pequeño que Python puede guardar en la memoria. El tamaño depende de con qué tipo de dato numérico estemos trabajando.\n",
    "* float(): Los valores positivos y negativos de una variable tipo flotante, están entre [$10^{308}$,$-10^{308}$]\n",
    "* complex(): Los valores positivos y negativos de las partes real e imaginaria de una variable compleja, están entre [$10^{308}$,$-10^{308}$], pero no pueden haber valores más grandes que esos. \n",
    "Notemos que podemos reescribir un numeros flotantes, utilizando notación científica:\n",
    "* 2e9 = 2x10^{9} y 1.602e-19 = 1.602x10^{-19}\n",
    "\n",
    "Si una variable float() excede los límites de tamaño, esta se habrá sobrepasado. Pero, si tenemos una variable float() cuyo valor x<$10^{38}$ y realizamos una operación con dicha variable cuyo resultado exceda los límites de tamaño, por decir $y=x*100$ el resultado no será computado por Python y como resultado aparecerá $y=inf$, es decir, un valor no definido (dentro de los limites computacionales.)\n",
    "\n",
    "También existe un límite para la magnitud más pequeña con la que puede trabajar python(que puede ser representada por una variable float()), la cual es del orden de $10^{-38}$. Análogamente, si trabajas con una variable float() con un valor mucho más pequeño que dicho orden de magnitud, tu variable está no podrá ser imprimieda por el intérprete de manera adecuada e imprimirá el valor de 0.\n",
    "\n",
    "Para las variables con valor de número entero: int(), no existe límite alguno para el valor más grande (positivo o negativo). Aquí la cantidad de digitos que guarde Python para una variable que tenga un valor int(), depende enteramente de la capacidad de memoria de la computadora. "
   ]
  },
  {
   "cell_type": "code",
   "execution_count": 7,
   "metadata": {},
   "outputs": [],
   "source": [
    "#Ejemplo: Factorial de un número.\n",
    "def fact(n):\n",
    "    if n==1:\n",
    "        return n\n",
    "    elif n==0:\n",
    "        return 1\n",
    "    else:\n",
    "        return n * fact(n-1)"
   ]
  },
  {
   "cell_type": "code",
   "execution_count": 8,
   "metadata": {},
   "outputs": [
    {
     "name": "stdin",
     "output_type": "stream",
     "text": [
      "Dame un numero:  200\n"
     ]
    },
    {
     "name": "stdout",
     "output_type": "stream",
     "text": [
      "788657867364790503552363213932185062295135977687173263294742533244359449963403342920304284011984623904177212138919638830257642790242637105061926624952829931113462857270763317237396988943922445621451664240254033291864131227428294853277524242407573903240321257405579568660226031904170324062351700858796178922222789623703897374720000000000000000000000000000000000000000000000000\n"
     ]
    }
   ],
   "source": [
    "n=int(input('Dame un numero: '))\n",
    "print(fact(n))"
   ]
  },
  {
   "cell_type": "code",
   "execution_count": 11,
   "metadata": {},
   "outputs": [
    {
     "name": "stdin",
     "output_type": "stream",
     "text": [
      "Dame un numero:  200\n"
     ]
    },
    {
     "name": "stdout",
     "output_type": "stream",
     "text": [
      "inf\n"
     ]
    }
   ],
   "source": [
    "n=float(input('Dame un numero: '))\n",
    "print(fact(n))"
   ]
  },
  {
   "cell_type": "markdown",
   "metadata": {},
   "source": [
    "Notamos que para el factorial de int(200), Python no impone límites por sí mismo de la magnitud del valor de fact(200), es decir, solo si el valor numérico de fact() excede la memoria de la computadora, no imprimirá un valor tipo 'inf' y mientras que para float(200), Python imprimió un valor 'inf', pues $fact(200)>10^{38}$"
   ]
  },
  {
   "cell_type": "markdown",
   "metadata": {},
   "source": [
    "Para variables tipo float() Python los representa con una precisión numérica de 16-dígitos significativos. Cualquier variable float() que sobre pase los 16 dígitos significativos, será cortada a los 16 dígitos. Esto se puede notar con el valor de $\\pi$ en Python. $\\pi$ es un número irracional, lo que significa que tiene un número infinito de dígitos después del punto decimal, pero Python solo muestra 16 de esos dígitos.\n",
    "Al nosotros, restamos al valor real de $\\pi$ (con una cantidad infinita de dígitos), el valor de Python de $\\pi$, obtenemos el $\\textbf{error de redondeo}$ el cual es la diferencia entre el valor real, aritmético de un número (en este caso) y el valor numérico de un número con precisión finita (16 dígitos).\n",
    "\n",
    "Supongamos que tenemos dos números, por decir $x_1=2.2$ y $x_2=2.19999999999999$, técnicamente 'deberían' ser el mismo numero pues si redondeamos $x_2$, pues técnicamente es $x_1$, ¿no?. Verifiquemos en Python."
   ]
  },
  {
   "cell_type": "code",
   "execution_count": null,
   "metadata": {},
   "outputs": [],
   "source": [
    "x1=2.2\n",
    "x2=2.1999999999999\n",
    "print(x1==x2)#esto nos dirá si el x1 es igual a x2 (True) o no (False.)\n",
    "\n",
    "if x2==x1:\n",
    "    print(x1)\n",
    "else:\n",
    "    print(\"Nop.\")"
   ]
  },
  {
   "cell_type": "markdown",
   "metadata": {},
   "source": [
    "¿Qué pasó ahí? Si en teoría los dos números con casi iguales, porque eventualmente, podemos suponer que $x_2 \\to x_1$ si $x_2 \\to \\infty$, ¿no? .Pues en realidad, Python es muy cortante. Mientras los dos números sean exactamente los mismos, dígito por dígito, y evaluar si son iguales mediante una condición lógica, pues será falso que $x_1=x_2$. ¿Qué podemos hacer, entonces?\n",
    "\n",
    "Lo que podemos hacer es calcular la diferencia en valor absoluto de ambos números y poner un criterio. Este criterio, será que si la diferencia en valor absoluto sea menor que una $\\epsilon$, la cual representará el orden de magnitud que querramos, entonces, podemos considerar que $x_1=x_2$. En otras palabras, si la diferencia en valor absoluto es aún más pequeña que la épsilon que impongamos, entonces, podemos considerar $x_1=x_2$."
   ]
  },
  {
   "cell_type": "code",
   "execution_count": 37,
   "metadata": {},
   "outputs": [
    {
     "name": "stdout",
     "output_type": "stream",
     "text": [
      "1.000088900582341e-12\n",
      "2.199999999999\n"
     ]
    }
   ],
   "source": [
    "x2=2.199999999999\n",
    "epsilon= 1e-9\n",
    "print(float(abs(x2-2.2)))\n",
    "if abs(x2-2.2)<epsilon:\n",
    "    print(x2)\n",
    "else:\n",
    "    print('Nop.')"
   ]
  },
  {
   "cell_type": "markdown",
   "metadata": {},
   "source": [
    "A $\\epsilon$, se le conoce como el $\\textbf{error de redondeo}$ el cual se define como el número que se le tendría que añadir al valor calculado por la computadora para obtener el valor exacto. Por ejemplo, nosotros al importar el valor de $x=\\sqrt{2}$ de la librería de Python, obtenemos $x+\\epsilon = \\sqrt{2}$ donde $\\epsilon$ es el error de redondeo y para obtener el valor exacto de $\\sqrt{2}$ despejamos x de la ecuación y obtenemos $x=\\sqrt{2}-\\epsilon$. Sabemos que $\\epsilon$ puede ser positivo o negativo, dependiendo de cómo se redondeó la variable x. En general, si la variable numérica x es del orden de 16 dígitos, entonces $\\epsilon$ deberá ser del orden aproximado de $\\frac{x}{10^{16}}$"
   ]
  },
  {
   "cell_type": "markdown",
   "metadata": {},
   "source": [
    "Podemos asumir que $\\epsilon$ es un número aleatorio con una desviación estandar dada por $\\sigma=Cx$ donde $C\\approx 10^{-16}$ y se le conoce como la constante de error. Entonces, cuando se presenta el error de redondeo de un número x, se tiene que $\\epsilon=\\sigma$.\n",
    "\n",
    "Ahora, ¿qué pasa si sumamos o multiplicamos dos números cada uno con un error de redondeo?, es decir, si tenemos $x_1$ y $x_2$ cada uno con sus respectivas $\\sigma_1$ y $\\sigma_2$.\n",
    "\n",
    "* Si sumamos o restamos $x_1$ y $x_2$ con $\\sigma_1$ y $\\sigma_2$, tenemos que la suma está dada por: $x=x_1+x_2$ y $\\sigma^2=\\sigma_1^2+\\sigma_2^2$, por lo que el error es igual a $\\sigma=\\sqrt{\\sigma_1^2+\\sigma_2^2}$. Si $\\sigma_1=C*x_1$ y $\\sigma_2=C*x_2$, la desviación estandar queda en términos de $x_1$ y $x_2$ como: $\\sigma=C\\sqrt{x_1^2+x_2^2}$\n",
    "\n",
    "* Si multiplicamos o dividimos $x_1$ y $x_2$ con $\\sigma_1$ y $\\sigma_2$, tenemos que la multiplicación y división están dadas por $x=x_1*x_2$ y $x=\\frac{x_1}{x_2}$la desviación estándar está dada por: $\\frac{\\sigma^2}{x^2}=\\frac{\\sigma_1^2}{x_1^2}+\\frac{\\sigma_2^2}{x_2^2}$. En términos de $x_1$ y $x_2$, la desviacón estandar está dada como: $\\sigma=\\sqrt{2}Cx$"
   ]
  },
  {
   "cell_type": "markdown",
   "metadata": {},
   "source": [
    "Para n números $x_i, i={1,2,3,......,N}$ con sus respectivas desviaciones estándar $\\sigma_i=Cx_i, i={1,2,3,......,N}$ tenemos que las sumas y productos están dados por:\n",
    "* Suma o resta: $\\sigma^2=\\sum_{i=1}^N \\sigma_i^2=\\sum_{i=1}^N C^2x_i^2=C^2N\\overline{x^2}$ y despejando, queda como: $\\sigma=C\\sqrt{N}\\sqrt{\\overline{x^2}}$\n",
    "\n",
    "Notemos que al sumar más y más números, el valor de $\\sigma$ aumenta, es decir, el error va aumentando."
   ]
  },
  {
   "cell_type": "markdown",
   "metadata": {},
   "source": [
    "También es útil definir el error fraccional para la suma finita de valores con desviaciones estándar. Esta la definimos como la división de la desviación estandar total sobre el valor de la suma: \n",
    "$$\n",
    "\\frac{\\sigma}{\\sum_{i=1}x_i}=\\frac{C}{\\sqrt{N}}\\frac{\\sqrt{\\overline{x^2}}}{\\overline{x}}\n",
    "$$\n",
    "Y el error fraccional para la suma finita disminuye conforme el número de términos va aumentando. ¡Es mejor! ¿Lo es?\n",
    "\n",
    "El problema viene cuando se substraen números de los cuales uno de ellos sobrepasa el límite de 16 cifras significativas. Python trunca el número y en vez de dar un error fraccional adecuado, en realidad este aumenta."
   ]
  },
  {
   "cell_type": "markdown",
   "metadata": {},
   "source": [
    "Consideramos $x=1$ y $y=1+1e^{-14}\\sqrt{2}$, los restamos y obtenemos:\n",
    "$$\n",
    "y-x=1+1e^{-14}\\sqrt{2}-1=1e^{-14}\\sqrt{2}\n",
    "$$\n",
    "De donde despejamos el valor de $\\sqrt{2}$ e intentamos obtener una aproximación del mismo.\n",
    "$$\n",
    "\\sqrt{2}=1e^{14}(y-x)\n",
    "$$"
   ]
  },
  {
   "cell_type": "markdown",
   "metadata": {},
   "source": [
    "## Ejemplo 4.1: Diferencia de dos números."
   ]
  },
  {
   "cell_type": "code",
   "execution_count": 40,
   "metadata": {},
   "outputs": [
    {
     "name": "stdout",
     "output_type": "stream",
     "text": [
      "1.4210854715202004\n",
      "1.4142135623730951\n",
      "0.006871909147105226\n"
     ]
    }
   ],
   "source": [
    "# Ejemplo 4.1: Diferencia de dos números.\n",
    "\n",
    "from math import sqrt\n",
    "x=1\n",
    "y=1+1e-14*sqrt(2)\n",
    "print((1e14)*(y-x))\n",
    "print(sqrt(2))\n",
    "print(abs(((1e14)*(y-x))-sqrt(2)))"
   ]
  },
  {
   "cell_type": "markdown",
   "metadata": {},
   "source": [
    "## Ejercicio 4.2: Ecuación cuadrática."
   ]
  },
  {
   "cell_type": "code",
   "execution_count": 68,
   "metadata": {},
   "outputs": [],
   "source": [
    "import math\n",
    "def raices1(a,b,c):\n",
    "    dis=b*b-4*a*c\n",
    "    val_raiz=math.sqrt(abs(dis))\n",
    "    if dis>0:\n",
    "        print('Raíces reales y de valores distintos.')\n",
    "        print((-b+val_raiz)/(2*a))\n",
    "        print((-b-val_raiz)/(2*a))\n",
    "    elif dis==0:\n",
    "        print('Solo una raiz real.')\n",
    "        print(-b/(2*a))\n",
    "    else:\n",
    "        print('Raíces complejas.')\n",
    "        print(-b/2*a,\"+i\",val_raiz)\n",
    "        print(-b/2*a,\"-i\",val_raiz)"
   ]
  },
  {
   "cell_type": "code",
   "execution_count": 71,
   "metadata": {},
   "outputs": [
    {
     "name": "stdin",
     "output_type": "stream",
     "text": [
      "Dame el valor de a:  0.001\n",
      "Dame el valor de b:  1000\n",
      "Dame el valor de c:  0.001\n"
     ]
    },
    {
     "name": "stdout",
     "output_type": "stream",
     "text": [
      "Raíces reales y de valores distintos.\n",
      "-9.999894245993346e-07\n",
      "-999999.999999\n"
     ]
    }
   ],
   "source": [
    "a=float(input('Dame el valor de a: '))\n",
    "b=float(input('Dame el valor de b: '))\n",
    "c=float(input('Dame el valor de c: '))\n",
    "if a==0:\n",
    "    print('No es valido.')\n",
    "else:\n",
    "    raices1(a,b,c)"
   ]
  },
  {
   "cell_type": "code",
   "execution_count": 70,
   "metadata": {},
   "outputs": [],
   "source": [
    "import math\n",
    "def raices2(a,b,c):\n",
    "    dis=b*b-4*a*c\n",
    "    val_raiz=math.sqrt(abs(dis))\n",
    "    if dis>0:\n",
    "        print('Raíces reales y de valores distintos.')\n",
    "        print((2*c)/(-b-val_raiz))\n",
    "        print((2*c)/(-b+val_raiz))\n",
    "    elif dis==0:\n",
    "        print('Solo una raiz real.')\n",
    "        print((2*c)/(-b))\n",
    "    else:\n",
    "        print('Raíces complejas.')\n",
    "        print(-b/2*a,\"+i\",val_raiz)\n",
    "        print(-b/2*a,\"-i\",val_raiz)"
   ]
  },
  {
   "cell_type": "code",
   "execution_count": 72,
   "metadata": {},
   "outputs": [
    {
     "name": "stdin",
     "output_type": "stream",
     "text": [
      "Dame el valor de a:  0.001\n",
      "Dame el valor de b:  1000\n",
      "Dame el valor de c:  0.001\n"
     ]
    },
    {
     "name": "stdout",
     "output_type": "stream",
     "text": [
      "Raíces reales y de valores distintos.\n",
      "-1.000000000001e-06\n",
      "-1000010.5755125057\n"
     ]
    }
   ],
   "source": [
    "a=float(input('Dame el valor de a: '))\n",
    "b=float(input('Dame el valor de b: '))\n",
    "c=float(input('Dame el valor de c: '))\n",
    "if a==0:\n",
    "    print('No es valido.')\n",
    "else:\n",
    "    raices2(a,b,c)"
   ]
  },
  {
   "cell_type": "markdown",
   "metadata": {},
   "source": [
    "Notamos que las raíces para la ecuación $0.001x^2+1000x+0.001=0$, son distintos para las dos manera propuestas de solución, esto creo yo, es debido al cambio del signo"
   ]
  },
  {
   "cell_type": "code",
   "execution_count": 86,
   "metadata": {},
   "outputs": [
    {
     "name": "stdout",
     "output_type": "stream",
     "text": [
      "Primera solución (metodo 1):  -9.999894245993346e-07\n",
      "Segunda solución (metodo 1):  -999999.999999\n",
      "Primera solución (metodo 2):  -1.000000000001e-06\n",
      "Segunda solución (metodo 2):  -1000010.5755125057\n",
      "(-999999.999999, -1.000000000001e-06, 'Segundo método.')\n"
     ]
    }
   ],
   "source": [
    "from numpy import sqrt\n",
    "\n",
    "\n",
    "def cuadratica(a, b, c):\n",
    "    \"\"\"\n",
    "    Imprime las dos soluciones de la ecuación cuadrática asociada, utilizando \n",
    "    las dos formas de la fomula cuadrática para obtener las raíces.\n",
    "    :constante a: termino cuadrático\n",
    "    :constante b: termino lineal\n",
    "    :constante c: termino constante\n",
    "    \"\"\"\n",
    "\n",
    "    print('Primera solución (metodo 1): ', (-b + sqrt(b ** 2 - 4 * a * c)) / (2 * a))\n",
    "    print('Segunda solución (metodo 1): ', (-b - sqrt(b ** 2 - 4 * a * c)) / (2 * a))\n",
    "    print('Primera solución (metodo 2): ', (2 * c) / (-b - sqrt(b ** 2 - 4 * a * c)))\n",
    "    print('Segunda solución (metodo 2): ', (2 * c) / (-b + sqrt(b ** 2 - 4 * a * c)))\n",
    "\n",
    "\n",
    "cuadratica(0.001, 1000, 0.001)\n",
    "\n",
    "\n",
    "def raices_cuadraticas(a, b, c):\n",
    "    \"\"\"\n",
    "    Regresa las raíces de una ecuación cuadrática en orden de magnitud ascendente.\n",
    "    La variación en las soluciones de las dos funciones, se debe a los valores de -b y al discriminante b**2 - 4*a*c.\n",
    "    Por lo que debemos escoger el método correto para resolver la ecuación en base a que se evite la diferencia de dos números casi iguales.\n",
    "    Es decir, debemos imponer una tolerancia para que apartir de esa, escoja el metodo que mejor convenga para resolver la ecuación.\n",
    "    :constante a: termino cuadrático\n",
    "    :constante b: termino lineal\n",
    "    :constante c: termino constante\n",
    "    \"\"\"\n",
    "    t = 10*-3\n",
    "    d = sqrt(b ** 2 - 4 * a * c)\n",
    "    if abs(d+ b) < t:\n",
    "        return (2 * c) / (-b + d), (-b + d) / (2 * a),'Primer método.'\n",
    "    else:\n",
    "        return (-b - d) / (2 * a), (2 * c) / (-b - d),'Segundo método.'\n",
    "\n",
    "\n",
    "print(raices_cuadraticas(0.001, 1000, 0.001))"
   ]
  },
  {
   "cell_type": "markdown",
   "metadata": {},
   "source": [
    "## Ejercicio 4.3"
   ]
  },
  {
   "cell_type": "markdown",
   "metadata": {},
   "source": [
    "Usando la definición de derivada:\n",
    "$$\n",
    "f'(x)=\\lim_{\\delta \\to 0} \\frac{f(x+\\delta)-f(x)}{\\delta}\\approx \\frac{f(x+\\delta)-f(x)}{\\delta}\n",
    "$$\n",
    "con delta ->0\n",
    "La computadora no hace el límite de delta -> 0, pero podemos aproximar a un valor lo más razonablemente pequeño.\n",
    "\n",
    "Para $f(x)=x(x-1)=x^2-x$, tenemos que la derivada es igual a:\n",
    "$$\n",
    "f'(x)\\approx \\frac{(x+\\delta)^2-(x+\\delta)-(x^2+x)}{\\delta}\n",
    "$$"
   ]
  },
  {
   "cell_type": "code",
   "execution_count": 74,
   "metadata": {},
   "outputs": [],
   "source": [
    "def derivada(x,delta):\n",
    "    der=((x+delta)**2-(x+delta)-x**2+x)/delta\n",
    "    return der"
   ]
  },
  {
   "cell_type": "code",
   "execution_count": 75,
   "metadata": {},
   "outputs": [
    {
     "name": "stdout",
     "output_type": "stream",
     "text": [
      "1.0099999999999998\n"
     ]
    }
   ],
   "source": [
    "x=1\n",
    "d=1e-2\n",
    "print(derivada(x,d))"
   ]
  },
  {
   "cell_type": "markdown",
   "metadata": {},
   "source": [
    "Para la función $f(x)=x^2-x$, la derivada analítica es igual a: $f(x)=2x-1$ que al ser evaluada en $x=1$, tenemos que:\n",
    "$$\n",
    "f'(x=1)=2(1)-1=1\n",
    "$$\n",
    "Por lo que los valores de las derivadas analíticas y numéricas no son lo mismo. Saquemos el error absoluto entre ambos resultados."
   ]
  },
  {
   "cell_type": "code",
   "execution_count": 76,
   "metadata": {},
   "outputs": [
    {
     "name": "stdout",
     "output_type": "stream",
     "text": [
      "0.009999999999999787\n"
     ]
    }
   ],
   "source": [
    "x=1\n",
    "d=1e-2\n",
    "print(abs(derivada(x,d)-1))"
   ]
  },
  {
   "cell_type": "markdown",
   "metadata": {},
   "source": [
    "Para distintos valores de $\\delta={1e-2,1e-4,1e-6,1e-8,1e-10,1e-12,1e-14}$, calculemos los valores de las derivadas junto con sus errores abosultos respecto al valor de la derivada analítica."
   ]
  },
  {
   "cell_type": "code",
   "execution_count": 81,
   "metadata": {},
   "outputs": [
    {
     "name": "stdout",
     "output_type": "stream",
     "text": [
      "0.01 \t 1.0099999999999998 \t 0.009999999999999787\n",
      "0.0001 \t 1.0000999999992821 \t 9.999999928211878e-05\n",
      "1e-06 \t 1.000001000006634 \t 1.0000066339443947e-06\n",
      "1e-08 \t 0.999999993922529 \t 6.07747097092215e-09\n",
      "1e-10 \t 1.000000082740371 \t 8.274037099909037e-08\n",
      "1e-12 \t 1.000088900582341 \t 8.890058234101161e-05\n",
      "1e-14 \t 0.9992007221626409 \t 0.0007992778373591136\n",
      "1e-16 \t 0.0 \t 1.0\n"
     ]
    }
   ],
   "source": [
    "x=1\n",
    "A=[1e-2,1e-4,1e-6,1e-8,1e-10,1e-12,1e-14,1e-16]\n",
    "for i in A:\n",
    "    print(i,\"\\t\",derivada(x,i),\"\\t\",abs(derivada(x,i)-1))"
   ]
  },
  {
   "cell_type": "markdown",
   "metadata": {},
   "source": [
    "Para deltas más y más pequeñas, la aproximación del límite va mejorando, pero en algún punto, empeora debido al error numérico que surge de la diferencia de números que son casi iguales."
   ]
  },
  {
   "cell_type": "markdown",
   "metadata": {},
   "source": [
    "## Ejemplo 4.2: Oscilador armónico cuántico a una temperatura finita.\n",
    "\n",
    "El oscilador armónico cuántico tiene niveles energéticos dados por:\n",
    "$$\n",
    "E_n=\\hbar \\omega(n+\\frac{1}{2})\n",
    "$$\n",
    "Y sabemos que la energía promedio a una temperatura T está dada por:\n",
    "$$\n",
    "<E>=\\frac{1}{Z}\\sum_{n=0}^{\\infty}E_ne^{-\\beta E_n}\n",
    "$$\n",
    "Con $\\beta=\\frac{1}{k_BT}$ y $Z=\\sum_{n=0}^{\\infty}e^{-\\beta E_n}$"
   ]
  },
  {
   "cell_type": "code",
   "execution_count": 88,
   "metadata": {},
   "outputs": [
    {
     "name": "stdout",
     "output_type": "stream",
     "text": [
      "4.917513884193951\n",
      "--- 0.0002887248992919922 segundos ---\n"
     ]
    }
   ],
   "source": [
    "from math import *\n",
    "import time\n",
    "\n",
    "start_time = time.time()\n",
    "\n",
    "S=0.0\n",
    "Z=0.0\n",
    "terminos=10\n",
    "for n in range(terminos):\n",
    "    beta=1/100\n",
    "    E=n+0.5 #niveles energeticos\n",
    "    S+=exp(-beta*(n+0.5))*(n+0.5)\n",
    "    Z+=exp(-beta*(n+0.5))\n",
    "print(S/Z)\n",
    "\n",
    "print(\"--- %s segundos ---\" % (time.time()  -  start_time))"
   ]
  },
  {
   "cell_type": "markdown",
   "metadata": {},
   "source": [
    "## Ejemplo 4.3: Multiplicación de matrices."
   ]
  },
  {
   "cell_type": "code",
   "execution_count": 102,
   "metadata": {},
   "outputs": [
    {
     "name": "stdout",
     "output_type": "stream",
     "text": [
      "[[75. 75. 75. ... 75. 75. 75.]\n",
      " [75. 75. 75. ... 75. 75. 75.]\n",
      " [75. 75. 75. ... 75. 75. 75.]\n",
      " ...\n",
      " [75. 75. 75. ... 75. 75. 75.]\n",
      " [75. 75. 75. ... 75. 75. 75.]\n",
      " [75. 75. 75. ... 75. 75. 75.]]\n",
      "--- 0.3161313533782959 segundos ---\n"
     ]
    }
   ],
   "source": [
    "from numpy import zeros,ones\n",
    "start_time = time.time()\n",
    "N=75\n",
    "C=zeros([N,N],float)\n",
    "A=ones([N,N],float)\n",
    "B=ones([N,N],float)\n",
    "for i in range(N):\n",
    "    for j in range(N):\n",
    "        for k in range(N):\n",
    "            C[i,j]+=A[i,k]*B[k,j]\n",
    "print(C)\n",
    "print(\"--- %s segundos ---\" % (time.time()  -  start_time))"
   ]
  },
  {
   "cell_type": "markdown",
   "metadata": {},
   "source": [
    "## Ejercicio 4.4: Integrales."
   ]
  },
  {
   "cell_type": "markdown",
   "metadata": {},
   "source": [
    "La integral a calcular es igual a: $\\int_{-1}^{1} \\sqrt{1-x^2}dx=\\frac{\\pi}{2}$ y tenemos que podemos aproximar el valor de la integral a:\n",
    "$$\n",
    "I=\\int_{-1}^{1} \\sqrt{1-x^2}dx=\\lim_{N \\to \\infty}\\sum_{k=1}^{N}hy_k\\approx \\sum_{k=1}^{N}\\frac{2}{N}\\sqrt{1-({-1+\\frac{2}{N}k})^2}\n",
    "$$"
   ]
  },
  {
   "cell_type": "code",
   "execution_count": 99,
   "metadata": {},
   "outputs": [
    {
     "name": "stdout",
     "output_type": "stream",
     "text": [
      "EL valor de la integral es igual a = 1.553417929404895\n",
      "delta = -1.588174724184898\n",
      "--- 0.0008647441864013672 segundos ---\n"
     ]
    }
   ],
   "source": [
    "from numpy import linspace, sqrt\n",
    "import time\n",
    "start_time = time.time()\n",
    "from math import pi\n",
    "N = 100\n",
    "h = 2/N\n",
    "x = linspace(-1,1,N)\n",
    "y = sqrt(1 - x**2)\n",
    "\n",
    "I = h*sum(y)\n",
    "delta = I - pi\n",
    "print('EL valor de la integral es igual a = {}'.format(I))\n",
    "print('delta = {}'.format(delta))\n",
    "print(\"--- %s segundos ---\" % (time.time()  -  start_time))"
   ]
  },
  {
   "cell_type": "code",
   "execution_count": 104,
   "metadata": {},
   "outputs": [
    {
     "name": "stdout",
     "output_type": "stream",
     "text": [
      "1.3586543247679108 --- 0.00031495094299316406 segundos ---\n",
      "1.553417929404895 --- 0.0007176399230957031 segundos ---\n",
      "1.5691729158636196 --- 0.0013306140899658203 segundos ---\n",
      "1.5706375839994526 --- 0.0031642913818359375 segundos ---\n",
      "1.5707805662399095 --- 0.01906585693359375 segundos ---\n",
      "1.5707947543354452 --- 0.17108678817749023 segundos ---\n"
     ]
    }
   ],
   "source": [
    "from numpy import linspace, sqrt\n",
    "from math import pi\n",
    "import time\n",
    "start_time = time.time()\n",
    "v=[10,100,1000,10000,100000,1000000]\n",
    "for i in v:\n",
    "    h = 2/i\n",
    "    x = linspace(-1,1,i)\n",
    "    y = sqrt(1 - x**2)\n",
    "    I = h*sum(y)\n",
    "    print(I,\"--- %s segundos ---\" % (time.time()  -  start_time))"
   ]
  }
 ],
 "metadata": {
  "kernelspec": {
   "display_name": "Python 3",
   "language": "python",
   "name": "python3"
  },
  "language_info": {
   "codemirror_mode": {
    "name": "ipython",
    "version": 3
   },
   "file_extension": ".py",
   "mimetype": "text/x-python",
   "name": "python",
   "nbconvert_exporter": "python",
   "pygments_lexer": "ipython3",
   "version": "3.8.5"
  }
 },
 "nbformat": 4,
 "nbformat_minor": 4
}
