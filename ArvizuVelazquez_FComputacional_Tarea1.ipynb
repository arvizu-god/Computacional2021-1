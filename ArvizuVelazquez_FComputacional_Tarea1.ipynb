{
 "cells": [
  {
   "cell_type": "markdown",
   "metadata": {},
   "source": [
    "# Fisica Computacional\n",
    "\n",
    "## Tarea 1."
   ]
  },
  {
   "cell_type": "markdown",
   "metadata": {},
   "source": [
    "## Ejercicio 1.\n",
    "\n",
    "Escribir un programa que almacene en una lista los números del 1 al 10 y los muestre por pantalla en orden inverso separados por comas."
   ]
  },
  {
   "cell_type": "code",
   "execution_count": 33,
   "metadata": {},
   "outputs": [
    {
     "name": "stdout",
     "output_type": "stream",
     "text": [
      "1,10,9,8,7,6,5,4,3,2,"
     ]
    }
   ],
   "source": [
    "list1=[1,2,3,4,5,6,7,8,9,10]\n",
    "for x in range(len(list1)):\n",
    "    print(list1[-x],end=\",\")"
   ]
  },
  {
   "cell_type": "markdown",
   "metadata": {},
   "source": [
    "## Ejercicio 2.\n",
    "\n",
    "Escribir un programa que almacene el abecedario en una lista, elimine de la lista las letras que ocupen posiciones múltiplos de 3, y muestre por pantalla la lista resultante."
   ]
  },
  {
   "cell_type": "code",
   "execution_count": 35,
   "metadata": {},
   "outputs": [
    {
     "name": "stdout",
     "output_type": "stream",
     "text": [
      "['a', 'b', 'c', 'd', 'e', 'f', 'g', 'h', 'i', 'j', 'k', 'l', 'm', 'n', 'o', 'p', 'q', 'r', 's', 't', 'u', 'v', 'w', 'x', 'y', 'z']\n",
      "['a', 'b', 'd', 'e', 'g', 'h', 'j', 'k', 'm', 'n', 'p', 'q', 's', 't', 'v', 'w', 'y', 'z']\n"
     ]
    }
   ],
   "source": [
    "alfabeto_str=string.ascii_lowercase\n",
    "alfabeto=list(alfabeto_str)\n",
    "print(alfabeto)\n",
    "for i in range(len(alfabeto),1,-1):\n",
    "    if i%3==0:\n",
    "        alfabeto.pop(i-1)\n",
    "print(alfabeto)"
   ]
  },
  {
   "cell_type": "markdown",
   "metadata": {},
   "source": [
    "## Ejercicio 3.\n",
    "\n",
    "Escribir un programa que pida al usuario una palabra y muestre por pantalla si es un palíndromo."
   ]
  },
  {
   "cell_type": "markdown",
   "metadata": {},
   "source": [
    "Para hacernos la vida más sencilla, definiremos una función llamada es_palíndroma para que nos inique si la palabra en cuastión es palíndroma o no."
   ]
  },
  {
   "cell_type": "code",
   "execution_count": 2,
   "metadata": {},
   "outputs": [
    {
     "name": "stdout",
     "output_type": "stream",
     "text": [
      "False\n",
      "True\n",
      "True\n"
     ]
    }
   ],
   "source": [
    "def es_palindroma(palabra):\n",
    "    nueva_palabra = \"\"\n",
    "    palabra_reves = \"\"\n",
    "    for letra in palabra:\n",
    "        if letra !=\" \":\n",
    "            nueva_palabra +=letra.lower()\n",
    "            palabra_reves = letra.lower()+palabra_reves\n",
    "    if nueva_palabra == palabra_reves:\n",
    "        return True\n",
    "    return False\n",
    "\n",
    "print(es_palindroma(\"Falso o verdadero\"))\n",
    "print(es_palindroma(\"Ana\"))\n",
    "print(es_palindroma(\"kayak\"))"
   ]
  },
  {
   "cell_type": "markdown",
   "metadata": {},
   "source": [
    "## Ejercicio 4.\n",
    "\n",
    "Pide números y mételos en una lista, cuando el usuario meta un 0 ya dejaremos de insertar. Por último, muestra los números ordenados de menor a mayor."
   ]
  },
  {
   "cell_type": "code",
   "execution_count": 32,
   "metadata": {},
   "outputs": [
    {
     "name": "stdin",
     "output_type": "stream",
     "text": [
      "Dame un numero: 1\n",
      "Dame un numero: 7\n",
      "Dame un numero: 8\n",
      "Dame un numero: 6\n",
      "Dame un numero: 45\n",
      "Dame un numero: 23\n",
      "Dame un numero: 0\n"
     ]
    },
    {
     "name": "stdout",
     "output_type": "stream",
     "text": [
      "[1, 6, 7, 8, 23, 45]\n"
     ]
    }
   ],
   "source": [
    "num_list=[]\n",
    "i= False\n",
    "while not i:\n",
    "    num=int(input('Dame un numero:'))\n",
    "    if num==0:\n",
    "        i= True\n",
    "    else:\n",
    "        num_list.append(num)\n",
    "num_list.sort()\n",
    "print(num_list)"
   ]
  },
  {
   "cell_type": "markdown",
   "metadata": {},
   "source": [
    "## Ejercicio 5.\n",
    "\n",
    "Escribir un programa que pida al usuario una palabra y muestre por pantalla el número de veces que contiene cada vocal."
   ]
  },
  {
   "cell_type": "code",
   "execution_count": 31,
   "metadata": {},
   "outputs": [
    {
     "name": "stdin",
     "output_type": "stream",
     "text": [
      "Escribe tu palabra :  Danny Nedelko\n"
     ]
    },
    {
     "name": "stdout",
     "output_type": "stream",
     "text": [
      "(e,2)\n",
      "(a,1)\n",
      "(o,1)\n"
     ]
    }
   ],
   "source": [
    "palabra = input('Escribe tu palabra : ')\n",
    "vocales = 'aeiou'\n",
    "contador = {}\n",
    "\n",
    "for letra in palabra:\n",
    "    if letra in vocales:\n",
    "        contador[letra]=contador.setdefault(letra,0)+1\n",
    "resultado = sorted(contador.items(), reverse=True,key=lambda x : x[1])\n",
    "\n",
    "for key,val in resultado:\n",
    "    print('({},{})'.format(key,val))"
   ]
  },
  {
   "cell_type": "markdown",
   "metadata": {},
   "source": [
    "## Ejercicio 6.\n",
    "Pide una cadena por teclado, mete los caracteres en una lista sin espacios."
   ]
  },
  {
   "cell_type": "code",
   "execution_count": 42,
   "metadata": {},
   "outputs": [
    {
     "name": "stdin",
     "output_type": "stream",
     "text": [
      "Escribe una frase:  Queridos ayudantes, ¿les gusta jugar al AoE 2? Para que se arme el Discord de una buena vez.\n"
     ]
    },
    {
     "name": "stdout",
     "output_type": "stream",
     "text": [
      "['Queridos', 'ayudantes,', '¿les', 'gusta', 'jugar', 'al', 'AoE', '2?', 'Para', 'que', 'se', 'arme', 'el', 'Discord', 'de', 'una', 'buena', 'vez.']\n"
     ]
    }
   ],
   "source": [
    "frase=input('Escribe una frase: ')\n",
    "frase=frase.split()\n",
    "lista=[]\n",
    "for palabra in frase:\n",
    "    lista.append(palabra)\n",
    "print(lista)"
   ]
  },
  {
   "cell_type": "markdown",
   "metadata": {},
   "source": [
    "## Ejercicio 7.\n",
    "Haz un programa que pida el nombre de una persona y lo muestre en pantalla repetido 1000 veces, pero dejando un espacio de separación entre cada copia del nombre."
   ]
  },
  {
   "cell_type": "code",
   "execution_count": 44,
   "metadata": {},
   "outputs": [
    {
     "name": "stdin",
     "output_type": "stream",
     "text": [
      "Dame tu nombre, por favor:\t Arturo\n"
     ]
    },
    {
     "name": "stdout",
     "output_type": "stream",
     "text": [
      "Arturo Arturo Arturo Arturo Arturo Arturo Arturo Arturo Arturo Arturo Arturo Arturo Arturo Arturo Arturo Arturo Arturo Arturo Arturo Arturo Arturo Arturo Arturo Arturo Arturo Arturo Arturo Arturo Arturo Arturo Arturo Arturo Arturo Arturo Arturo Arturo Arturo Arturo Arturo Arturo Arturo Arturo Arturo Arturo Arturo Arturo Arturo Arturo Arturo Arturo Arturo Arturo Arturo Arturo Arturo Arturo Arturo Arturo Arturo Arturo Arturo Arturo Arturo Arturo Arturo Arturo Arturo Arturo Arturo Arturo Arturo Arturo Arturo Arturo Arturo Arturo Arturo Arturo Arturo Arturo Arturo Arturo Arturo Arturo Arturo Arturo Arturo Arturo Arturo Arturo Arturo Arturo Arturo Arturo Arturo Arturo Arturo Arturo Arturo Arturo Arturo Arturo Arturo Arturo Arturo Arturo Arturo Arturo Arturo Arturo Arturo Arturo Arturo Arturo Arturo Arturo Arturo Arturo Arturo Arturo Arturo Arturo Arturo Arturo Arturo Arturo Arturo Arturo Arturo Arturo Arturo Arturo Arturo Arturo Arturo Arturo Arturo Arturo Arturo Arturo Arturo Arturo Arturo Arturo Arturo Arturo Arturo Arturo Arturo Arturo Arturo Arturo Arturo Arturo Arturo Arturo Arturo Arturo Arturo Arturo Arturo Arturo Arturo Arturo Arturo Arturo Arturo Arturo Arturo Arturo Arturo Arturo Arturo Arturo Arturo Arturo Arturo Arturo Arturo Arturo Arturo Arturo Arturo Arturo Arturo Arturo Arturo Arturo Arturo Arturo Arturo Arturo Arturo Arturo Arturo Arturo Arturo Arturo Arturo Arturo Arturo Arturo Arturo Arturo Arturo Arturo Arturo Arturo Arturo Arturo Arturo Arturo Arturo Arturo Arturo Arturo Arturo Arturo Arturo Arturo Arturo Arturo Arturo Arturo Arturo Arturo Arturo Arturo Arturo Arturo Arturo Arturo Arturo Arturo Arturo Arturo Arturo Arturo Arturo Arturo Arturo Arturo Arturo Arturo Arturo Arturo Arturo Arturo Arturo Arturo Arturo Arturo Arturo Arturo Arturo Arturo Arturo Arturo Arturo Arturo Arturo Arturo Arturo Arturo Arturo Arturo Arturo Arturo Arturo Arturo Arturo Arturo Arturo Arturo Arturo Arturo Arturo Arturo Arturo Arturo Arturo Arturo Arturo Arturo Arturo Arturo Arturo Arturo Arturo Arturo Arturo Arturo Arturo Arturo Arturo Arturo Arturo Arturo Arturo Arturo Arturo Arturo Arturo Arturo Arturo Arturo Arturo Arturo Arturo Arturo Arturo Arturo Arturo Arturo Arturo Arturo Arturo Arturo Arturo Arturo Arturo Arturo Arturo Arturo Arturo Arturo Arturo Arturo Arturo Arturo Arturo Arturo Arturo Arturo Arturo Arturo Arturo Arturo Arturo Arturo Arturo Arturo Arturo Arturo Arturo Arturo Arturo Arturo Arturo Arturo Arturo Arturo Arturo Arturo Arturo Arturo Arturo Arturo Arturo Arturo Arturo Arturo Arturo Arturo Arturo Arturo Arturo Arturo Arturo Arturo Arturo Arturo Arturo Arturo Arturo Arturo Arturo Arturo Arturo Arturo Arturo Arturo Arturo Arturo Arturo Arturo Arturo Arturo Arturo Arturo Arturo Arturo Arturo Arturo Arturo Arturo Arturo Arturo Arturo Arturo Arturo Arturo Arturo Arturo Arturo Arturo Arturo Arturo Arturo Arturo Arturo Arturo Arturo Arturo Arturo Arturo Arturo Arturo Arturo Arturo Arturo Arturo Arturo Arturo Arturo Arturo Arturo Arturo Arturo Arturo Arturo Arturo Arturo Arturo Arturo Arturo Arturo Arturo Arturo Arturo Arturo Arturo Arturo Arturo Arturo Arturo Arturo Arturo Arturo Arturo Arturo Arturo Arturo Arturo Arturo Arturo Arturo Arturo Arturo Arturo Arturo Arturo Arturo Arturo Arturo Arturo Arturo Arturo Arturo Arturo Arturo Arturo Arturo Arturo Arturo Arturo Arturo Arturo Arturo Arturo Arturo Arturo Arturo Arturo Arturo Arturo Arturo Arturo Arturo Arturo Arturo Arturo Arturo Arturo Arturo Arturo Arturo Arturo Arturo Arturo Arturo Arturo Arturo Arturo Arturo Arturo Arturo Arturo Arturo Arturo Arturo Arturo Arturo Arturo Arturo Arturo Arturo Arturo Arturo Arturo Arturo Arturo Arturo Arturo Arturo Arturo Arturo Arturo Arturo Arturo Arturo Arturo Arturo Arturo Arturo Arturo Arturo Arturo Arturo Arturo Arturo Arturo Arturo Arturo Arturo Arturo Arturo Arturo Arturo Arturo Arturo Arturo Arturo Arturo Arturo Arturo Arturo Arturo Arturo Arturo Arturo Arturo Arturo Arturo Arturo Arturo Arturo Arturo Arturo Arturo Arturo Arturo Arturo Arturo Arturo Arturo Arturo Arturo Arturo Arturo Arturo Arturo Arturo Arturo Arturo Arturo Arturo Arturo Arturo Arturo Arturo Arturo Arturo Arturo Arturo Arturo Arturo Arturo Arturo Arturo Arturo Arturo Arturo Arturo Arturo Arturo Arturo Arturo Arturo Arturo Arturo Arturo Arturo Arturo Arturo Arturo Arturo Arturo Arturo Arturo Arturo Arturo Arturo Arturo Arturo Arturo Arturo Arturo Arturo Arturo Arturo Arturo Arturo Arturo Arturo Arturo Arturo Arturo Arturo Arturo Arturo Arturo Arturo Arturo Arturo Arturo Arturo Arturo Arturo Arturo Arturo Arturo Arturo Arturo Arturo Arturo Arturo Arturo Arturo Arturo Arturo Arturo Arturo Arturo Arturo Arturo Arturo Arturo Arturo Arturo Arturo Arturo Arturo Arturo Arturo Arturo Arturo Arturo Arturo Arturo Arturo Arturo Arturo Arturo Arturo Arturo Arturo Arturo Arturo Arturo Arturo Arturo Arturo Arturo Arturo Arturo Arturo Arturo Arturo Arturo Arturo Arturo Arturo Arturo Arturo Arturo Arturo Arturo Arturo Arturo Arturo Arturo Arturo Arturo Arturo Arturo Arturo Arturo Arturo Arturo Arturo Arturo Arturo Arturo Arturo Arturo Arturo Arturo Arturo Arturo Arturo Arturo Arturo Arturo Arturo Arturo Arturo Arturo Arturo Arturo Arturo Arturo Arturo Arturo Arturo Arturo Arturo Arturo Arturo Arturo Arturo Arturo Arturo Arturo Arturo Arturo Arturo Arturo Arturo Arturo Arturo Arturo Arturo Arturo Arturo Arturo Arturo Arturo Arturo Arturo Arturo Arturo Arturo Arturo Arturo Arturo Arturo Arturo Arturo Arturo Arturo Arturo Arturo Arturo Arturo Arturo Arturo Arturo Arturo Arturo Arturo Arturo Arturo Arturo Arturo Arturo Arturo Arturo Arturo Arturo Arturo Arturo Arturo Arturo Arturo Arturo Arturo Arturo Arturo Arturo Arturo Arturo Arturo Arturo Arturo Arturo Arturo Arturo Arturo Arturo Arturo Arturo Arturo Arturo Arturo Arturo Arturo Arturo Arturo Arturo Arturo Arturo Arturo Arturo Arturo Arturo Arturo Arturo Arturo Arturo Arturo Arturo Arturo Arturo Arturo Arturo Arturo Arturo Arturo Arturo Arturo Arturo Arturo Arturo Arturo Arturo Arturo Arturo Arturo Arturo Arturo Arturo Arturo Arturo Arturo Arturo Arturo Arturo Arturo Arturo Arturo Arturo Arturo Arturo Arturo Arturo Arturo Arturo Arturo Arturo Arturo Arturo Arturo Arturo Arturo Arturo Arturo Arturo Arturo Arturo Arturo Arturo Arturo Arturo Arturo Arturo Arturo Arturo Arturo Arturo Arturo Arturo Arturo Arturo Arturo Arturo Arturo Arturo Arturo Arturo Arturo Arturo Arturo Arturo Arturo Arturo Arturo Arturo Arturo Arturo Arturo Arturo Arturo Arturo Arturo Arturo Arturo Arturo Arturo Arturo Arturo Arturo Arturo Arturo Arturo Arturo Arturo Arturo Arturo Arturo Arturo Arturo Arturo Arturo Arturo Arturo Arturo Arturo Arturo Arturo Arturo Arturo Arturo Arturo Arturo Arturo Arturo Arturo Arturo Arturo Arturo Arturo Arturo Arturo Arturo Arturo Arturo Arturo Arturo Arturo Arturo Arturo Arturo Arturo Arturo Arturo Arturo Arturo Arturo Arturo Arturo Arturo Arturo Arturo Arturo Arturo Arturo Arturo Arturo Arturo Arturo Arturo Arturo Arturo Arturo Arturo Arturo Arturo Arturo Arturo "
     ]
    }
   ],
   "source": [
    "nombre=input('Dame tu nombre, por favor:\\t')\n",
    "for i in range(1000):\n",
    "    print(nombre,sep=\" \",end=\" \")"
   ]
  },
  {
   "cell_type": "markdown",
   "metadata": {},
   "source": [
    "## Ejercicio 8.\n",
    "Escribir un programa que guarde en una variable el diccionario ’Euro’: 25.82, ’Dolar’:24.113, ’Yen’: 0.2189,’Dolar Canadiense’: 16.7842 y le pregunte al usuario por una divisa y muestre su valor de cambio o un mensaje de aviso si la divisa no está en el diccionario. Completa con todas las divisas que puedas."
   ]
  },
  {
   "cell_type": "code",
   "execution_count": 49,
   "metadata": {},
   "outputs": [
    {
     "name": "stdin",
     "output_type": "stream",
     "text": [
      "¿Qué divisa buscas?:  Euro\n"
     ]
    },
    {
     "name": "stdout",
     "output_type": "stream",
     "text": [
      "La divisa Euro tiene un valor de 25.82\n",
      "La divisa Euro no está en la base de datos :/\n",
      "La divisa Euro no está en la base de datos :/\n",
      "La divisa Euro no está en la base de datos :/\n"
     ]
    }
   ],
   "source": [
    "divisa={'Euro':25.82,'Dolar':24.113,'Yen':0.2189,'Dolar Canadiense':16.7842}\n",
    "busca=input('¿Qué divisa buscas?: ')\n",
    "for keys in divisa:\n",
    "    if busca==keys:\n",
    "        print(\"La divisa {} tiene un valor de {}\".format(busca,divisa[keys]))\n",
    "    else:\n",
    "        print(\"La divisa {} no está en la base de datos :/\".format(busca))"
   ]
  },
  {
   "cell_type": "code",
   "execution_count": 40,
   "metadata": {},
   "outputs": [
    {
     "name": "stdout",
     "output_type": "stream",
     "text": [
      "{'csev': 2, 'cwen': 2, 'zqian': 1}\n"
     ]
    }
   ],
   "source": [
    "counts=dict()\n",
    "names=['csev','cwen','csev','cwen','zqian']\n",
    "for name in names:\n",
    "    if name not in counts:\n",
    "        counts[name]=1\n",
    "    else:\n",
    "        counts[name]=counts[name]+1\n",
    "print(counts)"
   ]
  },
  {
   "cell_type": "markdown",
   "metadata": {},
   "source": [
    "## Ejercicio 9.\n",
    "Escribir un programa que almacene el diccionario con las calificaciones de las asignaturas de un semestre ’Algebra’: 10, ’Física’: 9, ’Calculo’: 8,’Computacion’: 10, ’Geometria’: 9, y después muestre por pantalla las calificaciones de cada asignatura en el formato asignatura tiene calificacion , donde asignatura es cada una de las asignaturas del curso, y calificacion son sus calificaciones. Al final debe mostrar también el número promedio del curso."
   ]
  },
  {
   "cell_type": "code",
   "execution_count": 35,
   "metadata": {},
   "outputs": [
    {
     "name": "stdout",
     "output_type": "stream",
     "text": [
      "La asignatura Algebra tiene calificación 10\n",
      "La asignatura Física tiene calificación 9\n",
      "La asignatura Cálculo tiene calificación 8\n",
      "La asignatura Computación tiene calificación 10\n",
      "La asignatura Geometría tiene calificación 9\n",
      "Y el promedio total de las calificaciones es 9.2\n"
     ]
    }
   ],
   "source": [
    "calif={\"Algebra\":10,\"Física\":9,\"Cálculo\":8,\"Computación\":10,\"Geometría\":9}\n",
    "suma=0\n",
    "for i in calif:\n",
    "    print('La asignatura '+str(i)+' tiene calificación '+str(calif[i]))\n",
    "    suma+=calif[i]\n",
    "valores=len(calif.keys())\n",
    "promedio=suma/float(valores)\n",
    "print('Y el promedio total de las calificaciones es {}'.format(promedio))"
   ]
  },
  {
   "cell_type": "markdown",
   "metadata": {},
   "source": [
    "## Ejercicio 10.\n",
    "Un satélite se encuentra en una órbita circular alrededor de la Tierra, tal que completa un círculo en T segundos, T es el periodo de la órbita:\n",
    "<ol>\n",
    "<li>Muestra que la altitud h sobre la superficie de la Tierra será: \n",
    "    $h=(\\frac{GMT^2}{4\\pi^2})^{1/3}-R_T$</li>\n",
    "<li>Escribe un programa que le pregunte al usuario el periodo que desea tenga su satélite girando alrededor de la Tierra y el programa le regrese la altitud, en metros,que deberá tener.</li>\n",
    "<li>¿Qué altitud deberá tener el satélite su queremos que orbite la Tierra con un periodo de un día (órbita geosíncrona), 90 minutos, 45 minutos? ¿Qué observas?</li>\n",
    "<li>En práctica, una órbita geosíncrona es aquella cuya órbita tiene un periodo de un día sideral, que es de 23.93 horas, no de 24 horas. ¿Por qué es esto? ¿Cuál será la diferencia en altitud entre T= 23.93 horas y T= 24 horas.</li>\n",
    "</ol>"
   ]
  },
  {
   "cell_type": "markdown",
   "metadata": {},
   "source": [
    "Las fuerzas centrípetas y gravitacionales están dadas por:\n",
    "$$\n",
    "F_c=\\frac{mv²}{R_T+h}=\\frac{m\\omega²(R_T+h)²}{R_T+h}=m\\omega²(R_T+h)\n",
    "$$\n",
    "\n",
    "$$\n",
    "F_G=\\frac{GM_Tm}{(R_T+h)²}\n",
    "$$\n",
    "Y en el equilibrio de ambas fuerzas,tenemos que:\n",
    "$$\n",
    "F_c=F_G \\to m\\omega²(R_T+h)=\\frac{GM_Tm}{(R_T+h)²} \\to \\omega²(R_T+h)³=GM_T\n",
    "$$\n",
    "Despejamos h y obtenemos:\n",
    "$$\n",
    "h=(\\frac{GM_T}{\\omega^2})^{1/3}-R_T\n",
    "$$\n",
    "Y como $\\omega^2=\\frac{2\\pi}{T}$, sustituimos en la fórmula y obtenemos:\n",
    "$$\n",
    "h=(\\frac{GM_TT^2}{4\\pi^2})^{1/3}-R_T\n",
    "$$\n",
    "Definimos el valor de nuestras constantes:\n",
    "$G=6.67x10^{-11}m^3kg^{-1}s^{-2}$,$M_T=5.97x10^{24}kg$ y $R_T=6371km=6731000m$"
   ]
  },
  {
   "cell_type": "code",
   "execution_count": 14,
   "metadata": {},
   "outputs": [],
   "source": [
    "from scipy import constants as c\n",
    "def r_c(n):\n",
    "    return (n)**(1/3)\n",
    "\n",
    "def a_s(p):\n",
    "    M_T=5.97e34\n",
    "    R_T=6.73e6\n",
    "    return r_c((c.gravitational_constant*M_T*p)/(4*(c.pi**2)))-R_T"
   ]
  },
  {
   "cell_type": "code",
   "execution_count": 23,
   "metadata": {},
   "outputs": [
    {
     "name": "stdin",
     "output_type": "stream",
     "text": [
      "Por favor, dime el periodo de tu satélite:  1\n"
     ]
    },
    {
     "name": "stdout",
     "output_type": "stream",
     "text": [
      "La altura de tu satélite con el periodo 1.0 es igual a: 39829335.425\n"
     ]
    }
   ],
   "source": [
    "periodo=float(input(\"Por favor, dime el periodo de tu satélite: \"))\n",
    "print(\"La altura de tu satélite con el periodo {} es igual a: {:.3f}\".format(periodo,a_s(periodo)))"
   ]
  },
  {
   "cell_type": "markdown",
   "metadata": {},
   "source": [
    "Para un satélite con los periodos de 86400s, 5400s y 2700s respectivamente, tenemos que las alturas deseadas son:"
   ]
  },
  {
   "cell_type": "code",
   "execution_count": 26,
   "metadata": {},
   "outputs": [
    {
     "name": "stdout",
     "output_type": "stream",
     "text": [
      "La altura de tu satélite con el periodo 86400 es igual a: 2051582699.151\n",
      "La altura de tu satélite con el periodo 5400 es igual a: 810111935.978\n",
      "La altura de tu satélite con el periodo 2700 es igual a: 641597874.232\n"
     ]
    }
   ],
   "source": [
    "l=[86400,5400,2700]\n",
    "for i in l:\n",
    "    print(\"La altura de tu satélite con el periodo {} es igual a: {:.3f}\".format(i,a_s(i)))"
   ]
  }
 ],
 "metadata": {
  "kernelspec": {
   "display_name": "Python 3",
   "language": "python",
   "name": "python3"
  },
  "language_info": {
   "codemirror_mode": {
    "name": "ipython",
    "version": 3
   },
   "file_extension": ".py",
   "mimetype": "text/x-python",
   "name": "python",
   "nbconvert_exporter": "python",
   "pygments_lexer": "ipython3",
   "version": "3.8.5"
  }
 },
 "nbformat": 4,
 "nbformat_minor": 4
}
